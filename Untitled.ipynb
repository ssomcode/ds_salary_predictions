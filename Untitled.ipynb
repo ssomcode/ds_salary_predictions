{
 "cells": [
  {
   "cell_type": "markdown",
   "metadata": {},
   "source": [
    "Web scrapping :\n",
    "   we will use selenium to scrape the data from the glassdoor website of job searching \n",
    "   - selenium uses javascript to go thrugh the webpage modules.\n",
    "   - selenium is library that will let the python script work as human user to scrape each and every company on the glassdoor website or linkdin if you want.\n",
    "   -"
   ]
  }
 ],
 "metadata": {
  "kernelspec": {
   "display_name": "Python 3",
   "language": "python",
   "name": "python3"
  },
  "language_info": {
   "codemirror_mode": {
    "name": "ipython",
    "version": 3
   },
   "file_extension": ".py",
   "mimetype": "text/x-python",
   "name": "python",
   "nbconvert_exporter": "python",
   "pygments_lexer": "ipython3",
   "version": "3.7.3"
  }
 },
 "nbformat": 4,
 "nbformat_minor": 2
}
